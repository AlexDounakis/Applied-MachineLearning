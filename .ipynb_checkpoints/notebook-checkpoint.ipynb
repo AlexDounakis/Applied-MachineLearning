{
 "cells": [
  {
   "cell_type": "markdown",
   "metadata": {},
   "source": [
    "**<h1><b>Applied Machine Learning<b></h1>**\n",
    "<h2>Αλέξανδρος - Ιωάννης Δουνάκης</h2> \n",
    "<h3>3170044</h3>\n",
    "\n",
    "\n",
    "\n",
    "\n",
    "## <h3>Εργασία 1 </h5>\n",
    "\n",
    "<h3><b>Q1</b></h6>\n",
    "Obtaining the Data \n",
    "\n"
   ]
  },
  {
   "cell_type": "code",
   "execution_count": 230,
   "metadata": {},
   "outputs": [],
   "source": [
    "import numpy as np\n",
    "import pandas as pd\n",
    "import matplotlib as plt\n",
    "\n",
    "raw_data = pd.read_csv(\"2757408.csv\",parse_dates=['DATE'] )\n",
    "#raw_data.DATE = pd.to_datetime(raw_data.DATE)\n",
    "\n",
    "raw_data2 = pd.read_csv(\"athens.csv\",parse_dates=['DATE'])\n",
    "#raw_data2.DATE = pd.to_datetime(raw_data2.DATE)"
   ]
  },
  {
   "cell_type": "markdown",
   "metadata": {},
   "source": [
    "<h3>Αρχή Διαχείρισης 1ου Σετ Δεδομένων </h3>\n",
    "Διασχίζουμε τα dataset προκειμένου να δούμε ποια δεδομένα λείπουν.\n",
    "Βλέπουμε πως οι NaN τιμές ειναι πολλές στο column TAVG , η οποία σίγουρα θα χρειαστεί προκειμένου να κάνουμε την ανάλυση"
   ]
  },
  {
   "cell_type": "code",
   "execution_count": 231,
   "metadata": {},
   "outputs": [
    {
     "name": "stdout",
     "output_type": "stream",
     "text": [
      "RAW_DATA NAN VALUES IN TAVG \n",
      " 2311\n",
      "RAW_DATA NAN VALUES IN TMAX \n",
      " 944\n",
      "RAW_DATA NAN VALUES IN TMIN \n",
      " 833\n",
      "RAW_DATA NAN VALUES IN PRCP \n",
      " 478\n"
     ]
    }
   ],
   "source": [
    "print(\"RAW_DATA NAN VALUES IN TAVG \\n\",raw_data.TAVG.isna().sum())\n",
    "print(\"RAW_DATA NAN VALUES IN TMAX \\n\",raw_data.TMAX.isna().sum())\n",
    "print(\"RAW_DATA NAN VALUES IN TMIN \\n\",raw_data.TMIN.isna().sum())\n",
    "print(\"RAW_DATA NAN VALUES IN PRCP \\n\",raw_data.PRCP.isna().sum())"
   ]
  },
  {
   "cell_type": "markdown",
   "metadata": {},
   "source": [
    "Θέλοντας να φτιάξουμε τα δεδομένα χρειάζεται να αλλάξουμε τις τιμές NaN σε μηδέν έτσι ώστε να είναι πιο διαχειρίσιμες"
   ]
  },
  {
   "cell_type": "code",
   "execution_count": 232,
   "metadata": {},
   "outputs": [],
   "source": [
    "raw_data.TAVG.fillna(0,inplace=True)\n",
    "raw_data.TMAX.fillna(0,inplace=True)    \n",
    "raw_data.TMIN.fillna(0,inplace=True)\n",
    "raw_data.PRCP.fillna(0,inplace=True)\n"
   ]
  },
  {
   "cell_type": "markdown",
   "metadata": {},
   "source": [
    "Συνεπώς , πρεπει να διαμορφώσουμε τα δεδομένα τα οποία λείπουν απο το 1ο σετ δεδομένων.<br>\n",
    "Αρχικά τα δεδομένα που χρειάζονται διαμόρφωση είναι όσες τιμές του TAVG == 0 εφόσον νωρίτερα τρέξαμε την <br><code>raw_data.TAVG.fillna(0,inplace=True)</code> \n",
    "<br>\n",
    "Συνεπώς τα βήματα που ακολουθούμε ειναι τα εξής:\n",
    "<br>\n",
    "<lu>\n",
    "    1. Κατατόπιση των: <br>\n",
    "        <li>A: Το σύνολο των γραμμών για τις οποίες ισχύει TAVG =0 και ΤΜΑΧ != 0 και ΤΜΙΝ != 0 </li>\n",
    "        <li>Β: Το σύνολο των γραμμών για τις οποίες ισχύει TAVG =0 και ΤΜΑΧ =0 ή ΤΜΙΝ =0 </li>\n",
    "        <br>\n",
    "    2. Για το σύνολο Α , θέτουμε την τιμη TAVG όσο το AVG των στοιχείων TMAX και TMIN (στη περίπτωση μας το AVG ταυτίζεται με το median) <br>\n",
    "    3. Για το σύνολο Β , θέτουμε την τιμη TAVG ίσο με την τιμη TMAX / TMIN ή οποία ειναι διαφορετική απο μηδέν.\n",
    "</lu>\n",
    "<br>\n",
    "THIS WORKS\n",
    "we dont take into consideration the case where (TAVG > TMAX) | (TAVG < TMIN)"
   ]
  },
  {
   "cell_type": "code",
   "execution_count": 233,
   "metadata": {},
   "outputs": [],
   "source": [
    "\n",
    "raw_data.TAVG.mask((raw_data.TAVG == 0) & (raw_data.TMAX != 0) & (raw_data.TMAX != 0) , (raw_data.TMAX +raw_data.TMIN) /2 ,inplace =True)\n",
    "raw_data.TAVG.mask((raw_data.TAVG == 0) & ((raw_data.TMAX == 0) | (raw_data.TMIN == 0)),raw_data.TMAX + raw_data.TMIN, inplace = True)"
   ]
  },
  {
   "cell_type": "markdown",
   "metadata": {},
   "source": [
    "Παρατηρώντας τα δεδομένα του αρχικού σετ δεδομένων , παρατηρούμε πως η μονάδα μέτρησης θερμοκρασίας δεν ειναι κελσίου , οπότε κάνουμε Fahrenheit to Celcius."
   ]
  },
  {
   "cell_type": "code",
   "execution_count": 234,
   "metadata": {},
   "outputs": [],
   "source": [
    "raw_data.TAVG.mask(raw_data.TAVG > 0 ,( (raw_data.TAVG - 32.0) * 5.0 / 9.0) , inplace=True)"
   ]
  },
  {
   "cell_type": "markdown",
   "metadata": {},
   "source": [
    "Επίσης για την διαμόρφωση των δεδομένων χρειάζεται να ελέγξουμε την πληρότητα των τιμών στο πεδίο <code>raw_data.PRCP</code> <br>\n",
    "Εξετάζοντας τα δεδομένα αυτά βλέπουμε πως το ποσοστο των τιμών NaN για τα έτη 2010 μέχρι 2019 είναι πολύ μεγάλο έτσι ώστε να μπορούμε να εξάγουμε συμπεράσματα. <br>\n",
    "Συνεπώς θα χρειαστούμε να αντικαταστήσουμε τα δεδομένα που λείπουν απο το 2ο dataset που μας δίνεται , τρέχουμε την εντολή αυτή αργότερα σε διαφορετικό κελί. <br>\n"
   ]
  },
  {
   "cell_type": "code",
   "execution_count": 235,
   "metadata": {},
   "outputs": [
    {
     "name": "stdout",
     "output_type": "stream",
     "text": [
      "PERCENTAGE OF NAN IN PRCP THROUGH 2010 - 2019\n",
      " 86.24017155110793\n"
     ]
    }
   ],
   "source": [
    "tocount = raw_data.PRCP.loc[(raw_data.DATE > '2010-1-1') & (raw_data.DATE < '2020-1-1') ]\n",
    "print(\"PERCENTAGE OF NAN IN PRCP THROUGH 2010 - 2019\\n\",((tocount == 0).sum())/tocount.size *100)"
   ]
  },
  {
   "cell_type": "markdown",
   "metadata": {},
   "source": [
    "Τέλος , θέλουμε να δούμε την πληρότητα στις μέρες που καλύπτει το αρχικό dataset.\n",
    "Βάση του παρακάτω κώδικα βλέπουμε πως απο τις 365* (2020-2010) ~ 3.652 μέρες που υπάρχουν σε 10 χρόνια , στο σετ εμφανίζονται πολύ λιγότερες.<br>\n",
    "Συνεπώς θα χρειαστούμε να πάρουμε τα δεδομένα για τις μέρες οι οποίες λείπουν ,απο το 2ο σετ.<br>\n",
    "Βλέπουμε πως όντως το 2ο σετ δεδομένων ειναι πολυ πιο πλήρες για την 10ετία 2010 με 2019."
   ]
  },
  {
   "cell_type": "code",
   "execution_count": 236,
   "metadata": {},
   "outputs": [
    {
     "name": "stdout",
     "output_type": "stream",
     "text": [
      "PERCENTAGE OF DAYS \n",
      " 76.64293537787513\n"
     ]
    }
   ],
   "source": [
    "days = raw_data.DATE.loc[(raw_data.DATE >='2010-1-1') & (raw_data.DATE < '2020-1-1')]\n",
    "days2 = raw_data2.DATE.loc[(raw_data2.DATE >= '2010-1-1') & (raw_data2.DATE < '2020-1-1')]\n",
    "\n",
    "print(\"PERCENTAGE OF DAYS \\n\",days.size / days2.size *100)"
   ]
  },
  {
   "cell_type": "markdown",
   "metadata": {},
   "source": [
    "<h3>Αρχη διαχειρισης 2ο Σετ Δεδομένων</h3>\n",
    "Ωστόσο στο 2o Dataset δεν φαίνεται να λείπουν δεδομένα χρήσιμα σε εμάς."
   ]
  },
  {
   "cell_type": "code",
   "execution_count": 237,
   "metadata": {},
   "outputs": [
    {
     "name": "stdout",
     "output_type": "stream",
     "text": [
      "RAW_DATA2 NAN VALUES IN TAVG \n",
      " 0\n",
      "RAW_DATA2 NAN VALUES IN TMAX \n",
      " 0\n",
      "RAW_DATA2 NAN VALUES IN TMIN \n",
      " 0\n",
      "RAW_DATA2 NAN VALUES IN PRCP \n",
      " 0\n"
     ]
    }
   ],
   "source": [
    "print(\"RAW_DATA2 NAN VALUES IN TAVG \\n\",raw_data2.TAVG.isna().sum())\n",
    "print(\"RAW_DATA2 NAN VALUES IN TMAX \\n\",raw_data2.TMAX.isna().sum())\n",
    "print(\"RAW_DATA2 NAN VALUES IN TMIN \\n\",raw_data2.TMIN.isna().sum())\n",
    "print(\"RAW_DATA2 NAN VALUES IN PRCP \\n\",raw_data2.PRCP.isna().sum())\n",
    "\n",
    "# (raw_data.TAVG == float(0)).sum()"
   ]
  },
  {
   "cell_type": "markdown",
   "metadata": {},
   "source": [
    "Raw_data2.PRCP normalization to [0.0-1.0] ,as seen in original raw_data  "
   ]
  },
  {
   "cell_type": "code",
   "execution_count": 238,
   "metadata": {},
   "outputs": [],
   "source": [
    "raw_data2.PRCP.mask( raw_data2.PRCP >0 , raw_data2.PRCP/100 , inplace=True)\n",
    "#raw_data2"
   ]
  },
  {
   "cell_type": "markdown",
   "metadata": {},
   "source": [
    "Αφού τροποποιήσαμε τα δεδομένα μας και στα 2 σετ που δίνονται , τώρα είναι έτοιμα ετσι ώστε να κάνουμε συνένωση σε έναν ενιαίο πίνακα.<br>\n",
    "Για την σωστή συνένωση , βρίσκουμε ποιές ημερομηνίες του 2ου σετ υπάρχουν στο 1ο (που συνεπώς δεν τις χρειαζόμαστε) και τις αφαιρούμε. <br>\n",
    "Την ένωση των δεδομένων την πραγματοποιούμε με τη μέθοδο <code>pd.concat([dataset1 , dataset2])</code> , ακόμα πετάμε τα column που δεν μας χρησιμεύουν.<br>\n",
    "Παρακάτω εμφανίζουμε τον τελικό πίνακα <code>data</code> ταξινομημένο βάση του <code>index</code> (DATE) ώντας ταξινομημένα απο μικρότερο προς μεγαλύτερο."
   ]
  },
  {
   "cell_type": "code",
   "execution_count": 239,
   "metadata": {},
   "outputs": [
    {
     "data": {
      "text/html": [
       "<div>\n",
       "<style scoped>\n",
       "    .dataframe tbody tr th:only-of-type {\n",
       "        vertical-align: middle;\n",
       "    }\n",
       "\n",
       "    .dataframe tbody tr th {\n",
       "        vertical-align: top;\n",
       "    }\n",
       "\n",
       "    .dataframe thead th {\n",
       "        text-align: right;\n",
       "    }\n",
       "</style>\n",
       "<table border=\"1\" class=\"dataframe\">\n",
       "  <thead>\n",
       "    <tr style=\"text-align: right;\">\n",
       "      <th></th>\n",
       "      <th></th>\n",
       "      <th>PRCP</th>\n",
       "    </tr>\n",
       "    <tr>\n",
       "      <th>YEAR</th>\n",
       "      <th>MONTH</th>\n",
       "      <th></th>\n",
       "    </tr>\n",
       "  </thead>\n",
       "  <tbody>\n",
       "    <tr>\n",
       "      <th rowspan=\"5\" valign=\"top\">1955</th>\n",
       "      <th>1</th>\n",
       "      <td>0.085484</td>\n",
       "    </tr>\n",
       "    <tr>\n",
       "      <th>2</th>\n",
       "      <td>0.046071</td>\n",
       "    </tr>\n",
       "    <tr>\n",
       "      <th>3</th>\n",
       "      <td>0.022258</td>\n",
       "    </tr>\n",
       "    <tr>\n",
       "      <th>4</th>\n",
       "      <td>0.045000</td>\n",
       "    </tr>\n",
       "    <tr>\n",
       "      <th>5</th>\n",
       "      <td>0.000323</td>\n",
       "    </tr>\n",
       "    <tr>\n",
       "      <th>...</th>\n",
       "      <th>...</th>\n",
       "      <td>...</td>\n",
       "    </tr>\n",
       "    <tr>\n",
       "      <th rowspan=\"5\" valign=\"top\">2020</th>\n",
       "      <th>8</th>\n",
       "      <td>0.018065</td>\n",
       "    </tr>\n",
       "    <tr>\n",
       "      <th>9</th>\n",
       "      <td>0.003000</td>\n",
       "    </tr>\n",
       "    <tr>\n",
       "      <th>10</th>\n",
       "      <td>0.010645</td>\n",
       "    </tr>\n",
       "    <tr>\n",
       "      <th>11</th>\n",
       "      <td>0.006667</td>\n",
       "    </tr>\n",
       "    <tr>\n",
       "      <th>12</th>\n",
       "      <td>0.026774</td>\n",
       "    </tr>\n",
       "  </tbody>\n",
       "</table>\n",
       "<p>792 rows × 1 columns</p>\n",
       "</div>"
      ],
      "text/plain": [
       "                PRCP\n",
       "YEAR MONTH          \n",
       "1955 1      0.085484\n",
       "     2      0.046071\n",
       "     3      0.022258\n",
       "     4      0.045000\n",
       "     5      0.000323\n",
       "...              ...\n",
       "2020 8      0.018065\n",
       "     9      0.003000\n",
       "     10     0.010645\n",
       "     11     0.006667\n",
       "     12     0.026774\n",
       "\n",
       "[792 rows x 1 columns]"
      ]
     },
     "execution_count": 239,
     "metadata": {},
     "output_type": "execute_result"
    }
   ],
   "source": [
    "raw_data2 = raw_data2[~raw_data2.DATE.isin(raw_data.DATE)]\n",
    "raw_data = raw_data.append(raw_data2).copy()\n",
    "raw_data = raw_data[['DATE' ,'TAVG' , 'PRCP']]\n",
    "raw_data\n",
    "month_avg = pd.DataFrame({'YEAR': raw_data.DATE.dt.year,'MONTH': raw_data.DATE.dt.month,'TAVG': raw_data.TAVG , 'PRCP': raw_data.PRCP})\n",
    "#print(month_avg.YEAR.sort_values())\n",
    "month_avg = month_avg.groupby(['YEAR','MONTH']).mean('TAVG')\n",
    "month_avg\n",
    "\n",
    "#print(data.to_string())\n",
    "#print(data.TAVG.loc[data.index == 23519])\n",
    "#pd.to_numeric(data.TAVG)\n",
    "#data = data.set_index(\"DATE\").sort_index()\n",
    "#data.loc[data.index == '2013-6-11']\n",
    "# data.loc[data.index == '2018-9-18']\n",
    "#print(data.index.duplicated().sum())\n",
    "#data.index = data.index.sort_index()\n"
   ]
  },
  {
   "cell_type": "markdown",
   "metadata": {},
   "source": [
    "<h3> Δημιουργία DataFrames για την αποθήκευση των στατιστικών</h3> <br>\n"
   ]
  },
  {
   "cell_type": "code",
   "execution_count": 240,
   "metadata": {},
   "outputs": [],
   "source": [
    "month_avg = pd.DataFrame({'YEAR': raw_data.DATE.dt.year,'MONTH': raw_data.DATE.dt.month,'TAVG': raw_data.TAVG , 'PRCP': raw_data.PRCP})\n",
    "#print(month_avg.YEAR.sort_values())\n",
    "month_avg = month_avg.groupby(['YEAR','MONTH'])\n",
    "\n",
    "# month_avg.TAVG = data.mean()\n",
    "# month_avg.YEAR.sort_values()\n",
    "# monthlyAvg = monthlyAvg.groupby(['YEAR','MONTH'])\n",
    "# monthlyAvg.head(12)\n"
   ]
  },
  {
   "cell_type": "code",
   "execution_count": null,
   "metadata": {},
   "outputs": [],
   "source": []
  }
 ],
 "metadata": {
  "interpreter": {
   "hash": "c30524a2e2b24cdc91d7de60270f8a5713551b1da92b36c451075ca5d8414f58"
  },
  "kernelspec": {
   "display_name": "Python 3 (ipykernel)",
   "language": "python",
   "name": "python3"
  },
  "language_info": {
   "codemirror_mode": {
    "name": "ipython",
    "version": 3
   },
   "file_extension": ".py",
   "mimetype": "text/x-python",
   "name": "python",
   "nbconvert_exporter": "python",
   "pygments_lexer": "ipython3",
   "version": "3.9.7"
  }
 },
 "nbformat": 4,
 "nbformat_minor": 2
}
