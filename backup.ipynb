X = summerAvg[(summerAvg.YEAR > 1973) & (summerAvg.YEAR < 2000)]
#print(summerAvg)
summerAvgDiff = pd.DataFrame({'YEAR' : summerAvg.YEAR , 'TAVG' : summerAvg.TAVG})
#print(X)
summerAvgDiff.TAVG = summerAvg.TAVG - X.TAVG.mean()
print(X.TAVG.mean())
summerAvgDiff.hist(column ='YEAR',bins = summerAvgDiff.size ,color = 'orange', alpha=0.5, figsize=(10, 8) , weights = summerAvgDiff.TAVG)
#rollingAVG = X.rolling(10).mean()
#print(rollingAVG)