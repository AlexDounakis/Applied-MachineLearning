{
 "cells": [
  {
   "cell_type": "markdown",
   "metadata": {},
   "source": [
    "**<h1><b>Applied Machine Learning<b></h1>**\n",
    "<h2>Αλέξανδρος - Ιωάννης Δουνάκης</h2> \n",
    "<h3>3170044</h3>\n",
    "\n",
    "\n",
    "\n",
    "\n",
    "## <h3>Εργασία 1 </h3>\n",
    "\n",
    "<h3><b>Q1</b></h3>\n",
    "Obtaining the Data \n",
    "\n"
   ]
  },
  {
   "cell_type": "code",
   "execution_count": 264,
   "metadata": {},
   "outputs": [],
   "source": [
    "import numpy as np\n",
    "import pandas as pd\n",
    "import matplotlib.pyplot as plt\n",
    "import seaborn as sb\n",
    "\n",
    "rawData = pd.read_csv(\"2757408.csv\",parse_dates=['DATE'] )\n",
    "#rawData.DATE = pd.to_datetime(rawData.DATE)\n",
    "\n",
    "rawData2 = pd.read_csv(\"athens.csv\",parse_dates=['DATE'])\n",
    "#rawData2.DATE = pd.to_datetime(rawData2.DATE)"
   ]
  },
  {
   "cell_type": "markdown",
   "metadata": {},
   "source": [
    "<h3>Αρχή Διαχείρισης 1ου Σετ Δεδομένων </h3>\n",
    "Διασχίζουμε τα dataset προκειμένου να δούμε ποια δεδομένα λείπουν.\n",
    "Βλέπουμε πως οι NaN τιμές ειναι πολλές στο column TAVG , η οποία σίγουρα θα χρειαστεί προκειμένου να κάνουμε την ανάλυση"
   ]
  },
  {
   "cell_type": "code",
   "execution_count": 265,
   "metadata": {},
   "outputs": [
    {
     "name": "stdout",
     "output_type": "stream",
     "text": [
      "rawData NAN VALUES IN TAVG \n",
      " 2311\n",
      "rawData NAN VALUES IN TMAX \n",
      " 944\n",
      "rawData NAN VALUES IN TMIN \n",
      " 833\n",
      "rawData NAN VALUES IN PRCP \n",
      " 478\n"
     ]
    }
   ],
   "source": [
    "print(\"rawData NAN VALUES IN TAVG \\n\",rawData.TAVG.isna().sum())\n",
    "print(\"rawData NAN VALUES IN TMAX \\n\",rawData.TMAX.isna().sum())\n",
    "print(\"rawData NAN VALUES IN TMIN \\n\",rawData.TMIN.isna().sum())\n",
    "print(\"rawData NAN VALUES IN PRCP \\n\",rawData.PRCP.isna().sum())"
   ]
  },
  {
   "cell_type": "markdown",
   "metadata": {},
   "source": [
    "Θέλοντας να φτιάξουμε τα δεδομένα χρειάζεται να αλλάξουμε τις τιμές NaN σε μηδέν έτσι ώστε να είναι πιο διαχειρίσιμες"
   ]
  },
  {
   "cell_type": "code",
   "execution_count": 266,
   "metadata": {},
   "outputs": [],
   "source": [
    "rawData.TAVG.fillna(0,inplace=True)\n",
    "rawData.TMAX.fillna(0,inplace=True)    \n",
    "rawData.TMIN.fillna(0,inplace=True)\n",
    "rawData.PRCP.fillna(0,inplace=True)\n"
   ]
  },
  {
   "cell_type": "markdown",
   "metadata": {},
   "source": [
    "Συνεπώς , πρεπει να διαμορφώσουμε τα δεδομένα τα οποία λείπουν απο το 1ο σετ δεδομένων.<br>\n",
    "Αρχικά τα δεδομένα που χρειάζονται διαμόρφωση είναι όσες τιμές του TAVG == 0 εφόσον νωρίτερα τρέξαμε την <br><code>rawData.TAVG.fillna(0,inplace=True)</code> \n",
    "<br>\n",
    "Συνεπώς τα βήματα που ακολουθούμε ειναι τα εξής:\n",
    "<br>\n",
    "<lu>\n",
    "    1. Κατατόπιση των: <br>\n",
    "        <li>A: Το σύνολο των γραμμών για τις οποίες ισχύει TAVG =0 και ΤΜΑΧ != 0 και ΤΜΙΝ != 0 </li>\n",
    "        <li>Β: Το σύνολο των γραμμών για τις οποίες ισχύει TAVG =0 και ΤΜΑΧ =0 ή ΤΜΙΝ =0 </li>\n",
    "        <br>\n",
    "    2. Για το σύνολο Α , θέτουμε την τιμη TAVG όσο το AVG των στοιχείων TMAX και TMIN (στη περίπτωση μας το AVG ταυτίζεται με το median) <br>\n",
    "    3. Για το σύνολο Β , θέτουμε την τιμη TAVG ίσο με την τιμη TMAX / TMIN ή οποία ειναι διαφορετική απο μηδέν.\n",
    "</lu>\n",
    "<br>\n",
    "THIS WORKS\n",
    "we dont take into consideration the case where (TAVG > TMAX) | (TAVG < TMIN)"
   ]
  },
  {
   "cell_type": "code",
   "execution_count": 267,
   "metadata": {},
   "outputs": [],
   "source": [
    "rawData.TAVG.mask((rawData.TAVG == 0) & (rawData.TMAX != 0) & (rawData.TMAX != 0) , (rawData.TMAX +rawData.TMIN) /2 ,inplace =True)\n",
    "rawData.TAVG.mask((rawData.TAVG == 0) & ((rawData.TMAX == 0) | (rawData.TMIN == 0)),rawData.TMAX + rawData.TMIN, inplace = True)"
   ]
  },
  {
   "cell_type": "markdown",
   "metadata": {},
   "source": [
    "Παρατηρώντας τα δεδομένα του αρχικού σετ δεδομένων , παρατηρούμε πως η μονάδα μέτρησης θερμοκρασίας δεν ειναι κελσίου , οπότε κάνουμε Fahrenheit to Celcius."
   ]
  },
  {
   "cell_type": "code",
   "execution_count": 268,
   "metadata": {},
   "outputs": [],
   "source": [
    "rawData.TAVG.mask(rawData.TAVG > 0 ,( (rawData.TAVG - 32.0) * 5.0 / 9.0) , inplace=True)"
   ]
  },
  {
   "cell_type": "markdown",
   "metadata": {},
   "source": [
    "Επίσης για την διαμόρφωση των δεδομένων χρειάζεται να ελέγξουμε την πληρότητα των τιμών στο πεδίο <code>rawData.PRCP</code> <br>\n",
    "Εξετάζοντας τα δεδομένα αυτά βλέπουμε πως το ποσοστο των τιμών NaN για τα έτη 2010 μέχρι 2019 είναι πολύ μεγάλο έτσι ώστε να μπορούμε να εξάγουμε συμπεράσματα. <br>\n",
    "Συνεπώς θα χρειαστούμε να αντικαταστήσουμε τα δεδομένα που λείπουν απο το 2ο dataset που μας δίνεται , τρέχουμε την εντολή αυτή αργότερα σε διαφορετικό κελί. <br>\n"
   ]
  },
  {
   "cell_type": "code",
   "execution_count": 269,
   "metadata": {},
   "outputs": [
    {
     "name": "stdout",
     "output_type": "stream",
     "text": [
      "PERCENTAGE OF NAN IN PRCP THROUGH 2010 - 2019\n",
      " 86.24017155110793\n"
     ]
    }
   ],
   "source": [
    "toCount = rawData.PRCP.loc[(rawData.DATE > '2010-1-1') & (rawData.DATE < '2020-1-1') ]\n",
    "print(\"PERCENTAGE OF NAN IN PRCP THROUGH 2010 - 2019\\n\",((toCount == 0).sum())/toCount.size *100)"
   ]
  },
  {
   "cell_type": "markdown",
   "metadata": {},
   "source": [
    "Τέλος , θέλουμε να δούμε την πληρότητα στις μέρες που καλύπτει το αρχικό dataset.\n",
    "Βάση του παρακάτω κώδικα βλέπουμε πως απο τις 365* (2020-2010) ~ 3.652 μέρες που υπάρχουν σε 10 χρόνια , στο σετ εμφανίζονται πολύ λιγότερες.<br>\n",
    "Συνεπώς θα χρειαστούμε να πάρουμε τα δεδομένα για τις μέρες οι οποίες λείπουν ,απο το 2ο σετ.<br>\n",
    "Βλέπουμε πως όντως το 2ο σετ δεδομένων ειναι πολυ πιο πλήρες για την 10ετία 2010 με 2019."
   ]
  },
  {
   "cell_type": "code",
   "execution_count": 270,
   "metadata": {},
   "outputs": [
    {
     "name": "stdout",
     "output_type": "stream",
     "text": [
      "PERCENTAGE OF DAYS \n",
      " 76.64293537787513\n"
     ]
    }
   ],
   "source": [
    "days = rawData.DATE.loc[(rawData.DATE >='2010-1-1') & (rawData.DATE < '2020-1-1')]\n",
    "days2 = rawData2.DATE.loc[(rawData2.DATE >= '2010-1-1') & (rawData2.DATE < '2020-1-1')]\n",
    "\n",
    "print(\"PERCENTAGE OF DAYS \\n\",days.size / days2.size *100)"
   ]
  },
  {
   "cell_type": "markdown",
   "metadata": {},
   "source": [
    "<h3>Αρχη διαχειρισης 2ο Σετ Δεδομένων</h3>\n",
    "Ωστόσο στο 2o Dataset δεν φαίνεται να λείπουν δεδομένα χρήσιμα σε εμάς."
   ]
  },
  {
   "cell_type": "code",
   "execution_count": 271,
   "metadata": {},
   "outputs": [
    {
     "name": "stdout",
     "output_type": "stream",
     "text": [
      "rawData2 NAN VALUES IN TAVG \n",
      " 0\n",
      "rawData2 NAN VALUES IN TMAX \n",
      " 0\n",
      "rawData2 NAN VALUES IN TMIN \n",
      " 0\n",
      "rawData2 NAN VALUES IN PRCP \n",
      " 0\n"
     ]
    }
   ],
   "source": [
    "print(\"rawData2 NAN VALUES IN TAVG \\n\",rawData2.TAVG.isna().sum())\n",
    "print(\"rawData2 NAN VALUES IN TMAX \\n\",rawData2.TMAX.isna().sum())\n",
    "print(\"rawData2 NAN VALUES IN TMIN \\n\",rawData2.TMIN.isna().sum())\n",
    "print(\"rawData2 NAN VALUES IN PRCP \\n\",rawData2.PRCP.isna().sum())\n",
    "\n",
    "# (rawData.TAVG == float(0)).sum()"
   ]
  },
  {
   "cell_type": "markdown",
   "metadata": {},
   "source": [
    "rawData2.PRCP normalization to [0.0-1.0] ,as seen in original rawData  \n",
    "Ωστόσο υπάρχουν δεδομένα που έχουν τιμη <code>TAVG == '---' </code> , που είναι ενα φοβερό easter egg της διαδικασίας.\n",
    "Τα δεδομένα αυτα τα διαγράφουμε εντελώς αφού ειναι ενα πολυ μικρό ποσοστό."
   ]
  },
  {
   "cell_type": "code",
   "execution_count": 272,
   "metadata": {},
   "outputs": [
    {
     "data": {
      "text/html": [
       "<div>\n",
       "<style scoped>\n",
       "    .dataframe tbody tr th:only-of-type {\n",
       "        vertical-align: middle;\n",
       "    }\n",
       "\n",
       "    .dataframe tbody tr th {\n",
       "        vertical-align: top;\n",
       "    }\n",
       "\n",
       "    .dataframe thead th {\n",
       "        text-align: right;\n",
       "    }\n",
       "</style>\n",
       "<table border=\"1\" class=\"dataframe\">\n",
       "  <thead>\n",
       "    <tr style=\"text-align: right;\">\n",
       "      <th></th>\n",
       "      <th>DATE</th>\n",
       "      <th>TAVG</th>\n",
       "      <th>TMAX</th>\n",
       "      <th>TMIN</th>\n",
       "      <th>HUMIDITY</th>\n",
       "      <th>PRCP</th>\n",
       "      <th>Unnamed: 6</th>\n",
       "      <th>Unnamed: 7</th>\n",
       "      <th>Unnamed: 8</th>\n",
       "      <th>Unnamed: 9</th>\n",
       "      <th>...</th>\n",
       "      <th>Unnamed: 14</th>\n",
       "      <th>Unnamed: 15</th>\n",
       "      <th>Unnamed: 16</th>\n",
       "      <th>Unnamed: 17</th>\n",
       "      <th>Unnamed: 18</th>\n",
       "      <th>Unnamed: 19</th>\n",
       "      <th>Unnamed: 20</th>\n",
       "      <th>Unnamed: 21</th>\n",
       "      <th>Unnamed: 22</th>\n",
       "      <th>Unnamed: 23</th>\n",
       "    </tr>\n",
       "  </thead>\n",
       "  <tbody>\n",
       "  </tbody>\n",
       "</table>\n",
       "<p>0 rows × 24 columns</p>\n",
       "</div>"
      ],
      "text/plain": [
       "Empty DataFrame\n",
       "Columns: [DATE, TAVG, TMAX, TMIN, HUMIDITY, PRCP, Unnamed: 6, Unnamed: 7, Unnamed: 8, Unnamed: 9, Unnamed: 10, Unnamed: 11, Unnamed: 12, Unnamed: 13, Unnamed: 14, Unnamed: 15, Unnamed: 16, Unnamed: 17, Unnamed: 18, Unnamed: 19, Unnamed: 20, Unnamed: 21, Unnamed: 22, Unnamed: 23]\n",
       "Index: []\n",
       "\n",
       "[0 rows x 24 columns]"
      ]
     },
     "execution_count": 272,
     "metadata": {},
     "output_type": "execute_result"
    }
   ],
   "source": [
    "rawData2.PRCP.mask( rawData2.PRCP >0 , rawData2.PRCP/100 , inplace=True)\n",
    "#df.drop(df[df.score < 50].index, inplace=True)\n",
    "rawData2.drop(rawData2[rawData2.TAVG == '---'].index , inplace=True)\n",
    "rawData2[rawData2.TAVG =='---']\n"
   ]
  },
  {
   "cell_type": "markdown",
   "metadata": {},
   "source": [
    "Αφού τροποποιήσαμε τα δεδομένα μας και στα 2 σετ που δίνονται , τώρα είναι έτοιμα ετσι ώστε να δημιουργήσουμε έναν καινούργιο DateFrame.<br>\n",
    "Για την σωστή συνένωση , βρίσκουμε ποιές ημερομηνίες του 2ου σετ υπάρχουν στο 1ο (που συνεπώς δεν τις χρειαζόμαστε) και τις αφαιρούμε. <br>\n",
    "Την ένωση των δεδομένων την πραγματοποιούμε με τη μέθοδο <code>rawData.append(rawData2).copy()</code> , ακόμα κρατάμε τα column που μας χρησιμεύουν.<br>"
   ]
  },
  {
   "cell_type": "code",
   "execution_count": 273,
   "metadata": {},
   "outputs": [],
   "source": [
    "rawData2 = rawData2[~rawData2.DATE.isin(rawData.DATE)]\n",
    "data = rawData.append(rawData2).copy()\n",
    "data = data[['DATE' ,'TAVG' , 'PRCP']]\n",
    "data = data.astype({\"TAVG\" : float})\n",
    "#data\n"
   ]
  },
  {
   "cell_type": "markdown",
   "metadata": {},
   "source": [
    "<h3> Δημιουργία DataFrames για την αποθήκευση των στατιστικών</h3> <br>\n",
    "Παρακάτω εμφανίζουμε τον πίνακα <code>monthAvg</code> ταξινομημένο βάση του <code>monthAvg['YEAR','MONTH']</code> (DATE) ώντας ταξινομημένα απο τη μικρότερη προς μεγαλύτερη."
   ]
  },
  {
   "cell_type": "code",
   "execution_count": 274,
   "metadata": {},
   "outputs": [
    {
     "data": {
      "text/html": [
       "<div>\n",
       "<style scoped>\n",
       "    .dataframe tbody tr th:only-of-type {\n",
       "        vertical-align: middle;\n",
       "    }\n",
       "\n",
       "    .dataframe tbody tr th {\n",
       "        vertical-align: top;\n",
       "    }\n",
       "\n",
       "    .dataframe thead th {\n",
       "        text-align: right;\n",
       "    }\n",
       "</style>\n",
       "<table border=\"1\" class=\"dataframe\">\n",
       "  <thead>\n",
       "    <tr style=\"text-align: right;\">\n",
       "      <th></th>\n",
       "      <th>YEAR</th>\n",
       "      <th>TAVG</th>\n",
       "    </tr>\n",
       "  </thead>\n",
       "  <tbody>\n",
       "    <tr>\n",
       "      <th>0</th>\n",
       "      <td>1955</td>\n",
       "      <td>25.932971</td>\n",
       "    </tr>\n",
       "    <tr>\n",
       "      <th>1</th>\n",
       "      <td>1956</td>\n",
       "      <td>27.149758</td>\n",
       "    </tr>\n",
       "    <tr>\n",
       "      <th>2</th>\n",
       "      <td>1957</td>\n",
       "      <td>27.376208</td>\n",
       "    </tr>\n",
       "    <tr>\n",
       "      <th>3</th>\n",
       "      <td>1958</td>\n",
       "      <td>27.041063</td>\n",
       "    </tr>\n",
       "    <tr>\n",
       "      <th>4</th>\n",
       "      <td>1959</td>\n",
       "      <td>26.394928</td>\n",
       "    </tr>\n",
       "    <tr>\n",
       "      <th>...</th>\n",
       "      <td>...</td>\n",
       "      <td>...</td>\n",
       "    </tr>\n",
       "    <tr>\n",
       "      <th>61</th>\n",
       "      <td>2016</td>\n",
       "      <td>28.176329</td>\n",
       "    </tr>\n",
       "    <tr>\n",
       "      <th>62</th>\n",
       "      <td>2017</td>\n",
       "      <td>28.079348</td>\n",
       "    </tr>\n",
       "    <tr>\n",
       "      <th>63</th>\n",
       "      <td>2018</td>\n",
       "      <td>27.409420</td>\n",
       "    </tr>\n",
       "    <tr>\n",
       "      <th>64</th>\n",
       "      <td>2019</td>\n",
       "      <td>28.013285</td>\n",
       "    </tr>\n",
       "    <tr>\n",
       "      <th>65</th>\n",
       "      <td>2020</td>\n",
       "      <td>27.373188</td>\n",
       "    </tr>\n",
       "  </tbody>\n",
       "</table>\n",
       "<p>66 rows × 2 columns</p>\n",
       "</div>"
      ],
      "text/plain": [
       "    YEAR       TAVG\n",
       "0   1955  25.932971\n",
       "1   1956  27.149758\n",
       "2   1957  27.376208\n",
       "3   1958  27.041063\n",
       "4   1959  26.394928\n",
       "..   ...        ...\n",
       "61  2016  28.176329\n",
       "62  2017  28.079348\n",
       "63  2018  27.409420\n",
       "64  2019  28.013285\n",
       "65  2020  27.373188\n",
       "\n",
       "[66 rows x 2 columns]"
      ]
     },
     "execution_count": 274,
     "metadata": {},
     "output_type": "execute_result"
    }
   ],
   "source": [
    "monthAvg = pd.DataFrame({'YEAR': data.DATE.dt.year,'MONTH': data.DATE.dt.month,'TAVG': data.TAVG , 'PRCP': data.PRCP} , index=None)\n",
    "#print(\"MONTHLY AVERAGE \\n\",monthAvg.groupby(['YEAR','MONTH']).mean('TAVG').sort_values(by=['YEAR','MONTH']))\n",
    "\n",
    "summerAvg = monthAvg[(monthAvg.MONTH > 5) & (monthAvg.MONTH < 9)]\n",
    "summerAvg = summerAvg[['YEAR' ,'TAVG']]\n",
    "summerAvg = summerAvg.groupby('YEAR' , as_index=False).mean('TAVG').sort_values(by='YEAR')\n",
    "summerAvg "
   ]
  },
  {
   "cell_type": "markdown",
   "metadata": {},
   "source": [
    "Αντίστοιχα , εμφανίζουμε τον πίνακα <code>yearAVG</code> βάση του <code>index</code> (DATE) ταξινομημένα απο τη μικρότερη προς μεγαλύτερη"
   ]
  },
  {
   "cell_type": "code",
   "execution_count": 275,
   "metadata": {},
   "outputs": [],
   "source": [
    "yearAvg = pd.DataFrame({'YEAR' : data.DATE.dt.year , 'TAVG' : data.TAVG , 'PRCP' : data.PRCP})\n",
    "yearAvg = yearAvg.astype({\"TAVG\" :float})\n",
    "yearAvg = yearAvg.groupby('YEAR' , as_index=False).mean('TAVG').sort_values(by='YEAR')\n",
    "#yearAvg"
   ]
  },
  {
   "cell_type": "markdown",
   "metadata": {},
   "source": [
    "<h3><b>Q2</b></h3>\n",
    "Deviation Of Summer Temperatures\n"
   ]
  },
  {
   "cell_type": "code",
   "execution_count": 332,
   "metadata": {},
   "outputs": [
    {
     "data": {
      "image/png": "[encoded data removed]",
      "text/plain": [
       "<Figure size 864x504 with 1 Axes>"
      ]
     },
     "metadata": {
      "needs_background": "light"
     },
     "output_type": "display_data"
    }
   ],
   "source": [
    "X = summerAvg[(summerAvg.YEAR > 1973) & (summerAvg.YEAR < 2000)]\n",
    "#print(summerAvg)\n",
    "summerAvgDiff = pd.DataFrame({'YEAR' : summerAvg.YEAR , 'TAVG' : summerAvg.TAVG})\n",
    "#print(X)\n",
    "summerAvgDiff.TAVG = summerAvg.TAVG - X.TAVG.mean()\n",
    "\n",
    "plt.figure(figsize= (12,7))\n",
    "\n",
    "positive = pd.DataFrame({ 'YEAR' : summerAvgDiff.YEAR , 'TAVG' : summerAvgDiff.TAVG})\n",
    "positive[positive.TAVG < 0 ] = 0\n",
    "\n",
    "negative = pd.DataFrame({ 'YEAR' : summerAvgDiff.YEAR , 'TAVG' : summerAvgDiff.TAVG})\n",
    "negative[positive.TAVG > 0] = 0 \n",
    "\n",
    "plt.bar(x = summerAvgDiff.YEAR , height = positive.TAVG , color = 'orange' , width= 0.4 )\n",
    "plt.bar(x = summerAvgDiff.YEAR , height = negative.TAVG , color = 'blue' , width=0.4 )\n",
    "\n",
    "rollingAvg = summerAvgDiff.TAVG.rolling(10).mean()\n",
    "\n",
    "sb.lineplot( x = 'YEAR' , y= rollingAvg , data = summerAvgDiff , color= 'green' )\n",
    "\n",
    "plt.axhline(0 , color ='black' , linewidth = 0.4)\n",
    "\n",
    "plt.show()\n"
   ]
  }
 ],
 "metadata": {
  "interpreter": {
   "hash": "c30524a2e2b24cdc91d7de60270f8a5713551b1da92b36c451075ca5d8414f58"
  },
  "kernelspec": {
   "display_name": "Python 3.9.7 64-bit",
   "name": "python3"
  },
  "language_info": {
   "codemirror_mode": {
    "name": "ipython",
    "version": 3
   },
   "file_extension": ".py",
   "mimetype": "text/x-python",
   "name": "python",
   "nbconvert_exporter": "python",
   "pygments_lexer": "ipython3",
   "version": "3.9.7"
  }
 },
 "nbformat": 4,
 "nbformat_minor": 2
}
