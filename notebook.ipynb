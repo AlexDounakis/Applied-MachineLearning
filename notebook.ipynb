{
 "cells": [
  {
   "cell_type": "markdown",
   "metadata": {},
   "source": [
    "***<h1><b>Applied Machine Learning<b></h1>***\n",
    "<h2>Αλέξανδρος - Ιωάννης Δουνάκης</h2> \n",
    "<h3>3170044</h3>\n",
    "\n",
    "\n",
    "\n",
    "\n",
    "## <h3>Εργασία 1 </h5>\n",
    "\n",
    "<h3><b>Q1</b></h6>\n",
    "Obtaining the Data \n",
    "\n"
   ]
  },
  {
   "cell_type": "code",
   "execution_count": 271,
   "metadata": {},
   "outputs": [],
   "source": [
    "import numpy as np\n",
    "import pandas as pd\n",
    "import matplotlib as plt\n",
    "import seaborn as sns\n",
    "\n",
    "raw_data = pd.read_csv(\"2757408.csv\",parse_dates=[\"DATE\"] )\n",
    "raw_data.DATE = pd.to_datetime(raw_data.DATE)\n",
    "\n",
    "raw_data2 = pd.read_csv(\"athens.csv\",parse_dates=[\"DATE\"])\n",
    "raw_data2.DATE = pd.to_datetime(raw_data2.DATE)"
   ]
  },
  {
   "cell_type": "markdown",
   "metadata": {},
   "source": [
    "Διασχίζουμε τα dataset προκειμένου να δούμε ποια δεδομένα λείπουν.\n",
    "Βλέπουμε πως οι NaN τιμές ειναι πολλές στο column TAVG , η οποία σίγουρα θα χρειαστεί προκειμένου να κάνουμε την ανάλυση"
   ]
  },
  {
   "cell_type": "code",
   "execution_count": 242,
   "metadata": {},
   "outputs": [
    {
     "name": "stdout",
     "output_type": "stream",
     "text": [
      "RAW_DATA NAN VALUES IN TAVG \n",
      " 2311\n",
      "RAW_DATA NAN VALUES IN TMAX \n",
      " 944\n",
      "RAW_DATA NAN VALUES IN TMIN \n",
      " 833\n",
      "RAW_DATA NAN VALUES IN PRCP \n",
      " 478\n"
     ]
    }
   ],
   "source": [
    "print(\"RAW_DATA NAN VALUES IN TAVG \\n\",raw_data.TAVG.isna().sum())\n",
    "print(\"RAW_DATA NAN VALUES IN TMAX \\n\",raw_data.TMAX.isna().sum())\n",
    "print(\"RAW_DATA NAN VALUES IN TMIN \\n\",raw_data.TMIN.isna().sum())\n",
    "print(\"RAW_DATA NAN VALUES IN PRCP \\n\",raw_data.PRCP.isna().sum())\n",
    "\n",
    "# (raw_data.TAVG == float(0)).sum()"
   ]
  },
  {
   "cell_type": "markdown",
   "metadata": {},
   "source": [
    "Θέλοντας να φτιάξουμε τα δεδομένα χρειάζεται να αλλάξουμε τις τιμές NaN σε μηδέν έτσι ώστε να είναι πιο διαχειρίσιμες"
   ]
  },
  {
   "cell_type": "code",
   "execution_count": 272,
   "metadata": {},
   "outputs": [],
   "source": [
    "raw_data.TAVG.fillna(0,inplace=True)\n",
    "raw_data.TMAX.fillna(0,inplace=True)    \n",
    "raw_data.TMIN.fillna(0,inplace=True)\n",
    "raw_data.PRCP.fillna(0,inplace=True)\n"
   ]
  },
  {
   "cell_type": "markdown",
   "metadata": {},
   "source": [
    "Ωστόσο στο 2o Dataset δεν φαίνεται να λείπουν δεδομένα χρήσιμα σε εμάς."
   ]
  },
  {
   "cell_type": "code",
   "execution_count": 243,
   "metadata": {},
   "outputs": [
    {
     "name": "stdout",
     "output_type": "stream",
     "text": [
      "RAW_DATA2 NAN VALUES IN TAVG \n",
      " 0\n",
      "RAW_DATA2 NAN VALUES IN TMAX \n",
      " 0\n",
      "RAW_DATA2 NAN VALUES IN TMIN \n",
      " 0\n",
      "RAW_DATA2 NAN VALUES IN PRCP \n",
      " 0\n"
     ]
    }
   ],
   "source": [
    "print(\"RAW_DATA2 NAN VALUES IN TAVG \\n\",raw_data2.TAVG.isna().sum())\n",
    "print(\"RAW_DATA2 NAN VALUES IN TMAX \\n\",raw_data2.TMAX.isna().sum())\n",
    "print(\"RAW_DATA2 NAN VALUES IN TMIN \\n\",raw_data2.TMIN.isna().sum())\n",
    "print(\"RAW_DATA2 NAN VALUES IN PRCP \\n\",raw_data2.PRCP.isna().sum())\n",
    "\n",
    "# (raw_data.TAVG == float(0)).sum()"
   ]
  },
  {
   "cell_type": "markdown",
   "metadata": {},
   "source": [
    "Συνεπώς , πρεπει να διαμορφώσουμε τα δεδομένα τα οποία λείπουν απο το 1ο σετ δεδομένων.<br>\n",
    "Αρχικά τα δεδομένα που χρειάζονται διαμόρφωση είναι όσες τιμές του TAVG == 0 εφόσον νωρίτερα τρέξαμε την <br><code>raw_data.TAVG.fillna(0,inplace=True)</code> \n",
    "<br>\n",
    "Συνεπώς τα βήματα που ακολουθούμε ειναι τα εξής:\n",
    "<br>\n",
    "<lu>\n",
    "    1. Κατατόπιση των: <br>\n",
    "        <li>A: Το σύνολο των γραμμών για τις οποίες ισχύει TAVG =0 και ΤΜΑΧ != 0 και ΤΜΙΝ != 0 </li>\n",
    "        <li>Β: Το σύνολο των γραμμών για τις οποίες ισχύει TAVG =0 και ΤΜΑΧ =0 ή ΤΜΙΝ =0 </li>\n",
    "        <br>\n",
    "    2. Για το σύνολο Α , θέτουμε την τιμη TAVG όσο το AVG των στοιχείων TMAX και TMIN (στη περίπτωση μας το AVG ταυτίζεται με το median) <br>\n",
    "    3. Για το σύνολο Β , θέτουμε την τιμη TAVG ίσο με την τιμη TMAX / TMIN ή οποία ειναι διαφορετική απο μηδέν.\n",
    "</lu>\n",
    "<br>\n",
    "THIS WORKS\n",
    "we dont take into consideration the case where (TAVG > TMAX) | (TAVG < TMIN)"
   ]
  },
  {
   "cell_type": "code",
   "execution_count": 273,
   "metadata": {},
   "outputs": [],
   "source": [
    "\n",
    "raw_data.TAVG.mask( (raw_data.TAVG == 0) & (raw_data.TMAX != 0) & (raw_data.TMAX != 0) , (raw_data.TMAX +raw_data.TMIN) /2 ,inplace =True)\n",
    "raw_data.TAVG.mask(cond = (raw_data.TAVG == 0) & ((raw_data.TMAX == 0) | (raw_data.TMIN == 0)), other = raw_data.TMAX + raw_data.TMIN, inplace = True)"
   ]
  },
  {
   "cell_type": "markdown",
   "metadata": {},
   "source": [
    "Παρατηρώντας τα δεδομένα του αρχικού σετ δεδομένων , παρατηρούμε πως η μονάδα μέτρησης θερμοκρασίας δεν ειναι κελσίου , οπότε κάνουμε Farencheit to Celcius."
   ]
  },
  {
   "cell_type": "code",
   "execution_count": 274,
   "metadata": {},
   "outputs": [],
   "source": [
    "raw_data.TAVG.mask(raw_data.TAVG > 0 ,( (raw_data.TAVG - 32.0) * 5.0 / 9.0) , inplace=True)\n"
   ]
  },
  {
   "cell_type": "markdown",
   "metadata": {},
   "source": [
    "Επίσης για την διαμόρφωση των δεδομένων χρειάζεται να ελέγξουμε την πληρότητα των τιμών στο πεδίο <code>raw_data.PRCP</code> <br>\n",
    "Εξετάζοντας τα δεδομένα αυτά βλέπουμε πως το ποσοστο των τιμών NaN για τα έτη 2010 μέχρι 2019 είναι πολύ μεγάλο έτσι ώστε να μπορούμε να εξάγουμε συμπεράσματα. <br>\n",
    "Συνεπώς θα χρειαστούμε να αντικαταστήσουμε τα δεδομένα που λείπουν απο το 2ο dataset που μας δίνεται , την εντολή αυτή την τρέχουμε παρακάτω. <br>\n"
   ]
  },
  {
   "cell_type": "code",
   "execution_count": 278,
   "metadata": {},
   "outputs": [
    {
     "name": "stdout",
     "output_type": "stream",
     "text": [
      "PERCENTAGE OF NAN IN PRCP THROUGH 2010 - 2019\n",
      " 86.24017155110793\n"
     ]
    }
   ],
   "source": [
    "tocount = raw_data.PRCP.loc[(raw_data.DATE > '2010-1-1') & (raw_data.DATE < '2020-1-1') ]\n",
    "print(\"PERCENTAGE OF NAN IN PRCP THROUGH 2010 - 2019\\n\",((tocount == 0).sum())/tocount.size *100)"
   ]
  },
  {
   "cell_type": "markdown",
   "metadata": {},
   "source": [
    "Raw_data2.PRCP normalization to [0.0-1.0] ,as seen in original raw_data  "
   ]
  },
  {
   "cell_type": "code",
   "execution_count": 246,
   "metadata": {},
   "outputs": [],
   "source": [
    "raw_data2.PRCP.mask( raw_data2.PRCP >0 , raw_data2.PRCP/100 , inplace=True)\n",
    "#raw_data2"
   ]
  },
  {
   "cell_type": "markdown",
   "metadata": {},
   "source": []
  },
  {
   "cell_type": "code",
   "execution_count": 270,
   "metadata": {},
   "outputs": [
    {
     "data": {
      "text/html": [
       "<div>\n",
       "<style scoped>\n",
       "    .dataframe tbody tr th:only-of-type {\n",
       "        vertical-align: middle;\n",
       "    }\n",
       "\n",
       "    .dataframe tbody tr th {\n",
       "        vertical-align: top;\n",
       "    }\n",
       "\n",
       "    .dataframe thead th {\n",
       "        text-align: right;\n",
       "    }\n",
       "</style>\n",
       "<table border=\"1\" class=\"dataframe\">\n",
       "  <thead>\n",
       "    <tr style=\"text-align: right;\">\n",
       "      <th></th>\n",
       "      <th>PRCP</th>\n",
       "      <th>TAVG</th>\n",
       "      <th>TMAX</th>\n",
       "      <th>TMIN</th>\n",
       "    </tr>\n",
       "    <tr>\n",
       "      <th>DATE</th>\n",
       "      <th></th>\n",
       "      <th></th>\n",
       "      <th></th>\n",
       "      <th></th>\n",
       "    </tr>\n",
       "  </thead>\n",
       "  <tbody>\n",
       "    <tr>\n",
       "      <th>1955-01-01</th>\n",
       "      <td>0.00</td>\n",
       "      <td>14.166667</td>\n",
       "      <td>65.0</td>\n",
       "      <td>50.0</td>\n",
       "    </tr>\n",
       "    <tr>\n",
       "      <th>1955-01-02</th>\n",
       "      <td>0.08</td>\n",
       "      <td>10.833333</td>\n",
       "      <td>58.0</td>\n",
       "      <td>45.0</td>\n",
       "    </tr>\n",
       "    <tr>\n",
       "      <th>1955-01-03</th>\n",
       "      <td>0.00</td>\n",
       "      <td>12.5</td>\n",
       "      <td>60.0</td>\n",
       "      <td>49.0</td>\n",
       "    </tr>\n",
       "    <tr>\n",
       "      <th>1955-01-04</th>\n",
       "      <td>0.00</td>\n",
       "      <td>13.055556</td>\n",
       "      <td>66.0</td>\n",
       "      <td>45.0</td>\n",
       "    </tr>\n",
       "    <tr>\n",
       "      <th>1955-01-05</th>\n",
       "      <td>0.00</td>\n",
       "      <td>13.055556</td>\n",
       "      <td>64.0</td>\n",
       "      <td>47.0</td>\n",
       "    </tr>\n",
       "    <tr>\n",
       "      <th>...</th>\n",
       "      <td>...</td>\n",
       "      <td>...</td>\n",
       "      <td>...</td>\n",
       "      <td>...</td>\n",
       "    </tr>\n",
       "    <tr>\n",
       "      <th>2020-12-27</th>\n",
       "      <td>0.00</td>\n",
       "      <td>16.666667</td>\n",
       "      <td>0.0</td>\n",
       "      <td>0.0</td>\n",
       "    </tr>\n",
       "    <tr>\n",
       "      <th>2020-12-28</th>\n",
       "      <td>0.26</td>\n",
       "      <td>15.0</td>\n",
       "      <td>65.0</td>\n",
       "      <td>53.0</td>\n",
       "    </tr>\n",
       "    <tr>\n",
       "      <th>2020-12-29</th>\n",
       "      <td>0.00</td>\n",
       "      <td>16.111111</td>\n",
       "      <td>68.0</td>\n",
       "      <td>54.0</td>\n",
       "    </tr>\n",
       "    <tr>\n",
       "      <th>2020-12-30</th>\n",
       "      <td>0.00</td>\n",
       "      <td>16.666667</td>\n",
       "      <td>68.0</td>\n",
       "      <td>59.0</td>\n",
       "    </tr>\n",
       "    <tr>\n",
       "      <th>2020-12-31</th>\n",
       "      <td>0.00</td>\n",
       "      <td>15.555556</td>\n",
       "      <td>65.0</td>\n",
       "      <td>0.0</td>\n",
       "    </tr>\n",
       "  </tbody>\n",
       "</table>\n",
       "<p>24104 rows × 4 columns</p>\n",
       "</div>"
      ],
      "text/plain": [
       "            PRCP       TAVG  TMAX  TMIN\n",
       "DATE                                   \n",
       "1955-01-01  0.00  14.166667  65.0  50.0\n",
       "1955-01-02  0.08  10.833333  58.0  45.0\n",
       "1955-01-03  0.00       12.5  60.0  49.0\n",
       "1955-01-04  0.00  13.055556  66.0  45.0\n",
       "1955-01-05  0.00  13.055556  64.0  47.0\n",
       "...          ...        ...   ...   ...\n",
       "2020-12-27  0.00  16.666667   0.0   0.0\n",
       "2020-12-28  0.26       15.0  65.0  53.0\n",
       "2020-12-29  0.00  16.111111  68.0  54.0\n",
       "2020-12-30  0.00  16.666667  68.0  59.0\n",
       "2020-12-31  0.00  15.555556  65.0   0.0\n",
       "\n",
       "[24104 rows x 4 columns]"
      ]
     },
     "execution_count": 270,
     "metadata": {},
     "output_type": "execute_result"
    }
   ],
   "source": [
    "#raw_data.DATE.dtypes\n",
    "\n",
    "raw_data2 = raw_data2[~raw_data2.DATE.isin(raw_data.DATE)]\n",
    "data = pd.concat([raw_data , raw_data2])\n",
    "data = data[['DATE','PRCP','TAVG','TMAX','TMIN']].copy()\n",
    "data = data.set_index(\"DATE\").sort_index()\n",
    "data\n",
    "#data.index = data.index.sort_index()\n"
   ]
  },
  {
   "cell_type": "code",
   "execution_count": 249,
   "metadata": {},
   "outputs": [
    {
     "ename": "KeyError",
     "evalue": "\"['PRCP', 'TAVG', 'TMAX', 'TMIN'] not in index\"",
     "output_type": "error",
     "traceback": [
      "\u001b[1;31m---------------------------------------------------------------------------\u001b[0m",
      "\u001b[1;31mKeyError\u001b[0m                                  Traceback (most recent call last)",
      "\u001b[1;32m~\\AppData\\Local\\Temp/ipykernel_2416/3625847110.py\u001b[0m in \u001b[0;36m<module>\u001b[1;34m\u001b[0m\n\u001b[0;32m     13\u001b[0m \u001b[1;31m# result = result.sort_index()\u001b[0m\u001b[1;33m\u001b[0m\u001b[1;33m\u001b[0m\u001b[1;33m\u001b[0m\u001b[0m\n\u001b[0;32m     14\u001b[0m \u001b[1;31m# result\u001b[0m\u001b[1;33m\u001b[0m\u001b[1;33m\u001b[0m\u001b[1;33m\u001b[0m\u001b[0m\n\u001b[1;32m---> 15\u001b[1;33m \u001b[0mresult\u001b[0m \u001b[1;33m=\u001b[0m \u001b[0mresult\u001b[0m\u001b[1;33m[\u001b[0m\u001b[1;33m[\u001b[0m \u001b[1;34m'STATION'\u001b[0m \u001b[1;33m,\u001b[0m \u001b[1;34m'NAME'\u001b[0m \u001b[1;33m,\u001b[0m\u001b[1;34m'DATE'\u001b[0m\u001b[1;33m,\u001b[0m\u001b[1;34m'PRCP'\u001b[0m\u001b[1;33m,\u001b[0m\u001b[1;34m'TAVG'\u001b[0m\u001b[1;33m,\u001b[0m\u001b[1;34m'TMAX'\u001b[0m\u001b[1;33m,\u001b[0m\u001b[1;34m'TMIN'\u001b[0m\u001b[1;33m]\u001b[0m\u001b[1;33m]\u001b[0m\u001b[1;33m.\u001b[0m\u001b[0mcopy\u001b[0m\u001b[1;33m(\u001b[0m\u001b[1;33m)\u001b[0m\u001b[1;33m\u001b[0m\u001b[1;33m\u001b[0m\u001b[0m\n\u001b[0m\u001b[0;32m     16\u001b[0m \u001b[0mresult\u001b[0m\u001b[1;33m.\u001b[0m\u001b[0mDATE\u001b[0m \u001b[1;33m=\u001b[0m \u001b[0mpd\u001b[0m\u001b[1;33m.\u001b[0m\u001b[0mto_datetime\u001b[0m\u001b[1;33m(\u001b[0m\u001b[1;34m'DATE'\u001b[0m\u001b[1;33m)\u001b[0m\u001b[1;33m\u001b[0m\u001b[1;33m\u001b[0m\u001b[0m\n\u001b[0;32m     17\u001b[0m \u001b[0mresult\u001b[0m\u001b[1;33m.\u001b[0m\u001b[0msort_values\u001b[0m\u001b[1;33m(\u001b[0m\u001b[0mresult\u001b[0m\u001b[1;33m.\u001b[0m\u001b[0mDATE\u001b[0m\u001b[1;33m)\u001b[0m\u001b[1;33m\u001b[0m\u001b[1;33m\u001b[0m\u001b[0m\n",
      "\u001b[1;32m~\\AppData\\Local\\Programs\\Python\\Python37\\lib\\site-packages\\pandas\\core\\frame.py\u001b[0m in \u001b[0;36m__getitem__\u001b[1;34m(self, key)\u001b[0m\n\u001b[0;32m   3462\u001b[0m             \u001b[1;32mif\u001b[0m \u001b[0mis_iterator\u001b[0m\u001b[1;33m(\u001b[0m\u001b[0mkey\u001b[0m\u001b[1;33m)\u001b[0m\u001b[1;33m:\u001b[0m\u001b[1;33m\u001b[0m\u001b[1;33m\u001b[0m\u001b[0m\n\u001b[0;32m   3463\u001b[0m                 \u001b[0mkey\u001b[0m \u001b[1;33m=\u001b[0m \u001b[0mlist\u001b[0m\u001b[1;33m(\u001b[0m\u001b[0mkey\u001b[0m\u001b[1;33m)\u001b[0m\u001b[1;33m\u001b[0m\u001b[1;33m\u001b[0m\u001b[0m\n\u001b[1;32m-> 3464\u001b[1;33m             \u001b[0mindexer\u001b[0m \u001b[1;33m=\u001b[0m \u001b[0mself\u001b[0m\u001b[1;33m.\u001b[0m\u001b[0mloc\u001b[0m\u001b[1;33m.\u001b[0m\u001b[0m_get_listlike_indexer\u001b[0m\u001b[1;33m(\u001b[0m\u001b[0mkey\u001b[0m\u001b[1;33m,\u001b[0m \u001b[0maxis\u001b[0m\u001b[1;33m=\u001b[0m\u001b[1;36m1\u001b[0m\u001b[1;33m)\u001b[0m\u001b[1;33m[\u001b[0m\u001b[1;36m1\u001b[0m\u001b[1;33m]\u001b[0m\u001b[1;33m\u001b[0m\u001b[1;33m\u001b[0m\u001b[0m\n\u001b[0m\u001b[0;32m   3465\u001b[0m \u001b[1;33m\u001b[0m\u001b[0m\n\u001b[0;32m   3466\u001b[0m         \u001b[1;31m# take() does not accept boolean indexers\u001b[0m\u001b[1;33m\u001b[0m\u001b[1;33m\u001b[0m\u001b[1;33m\u001b[0m\u001b[0m\n",
      "\u001b[1;32m~\\AppData\\Local\\Programs\\Python\\Python37\\lib\\site-packages\\pandas\\core\\indexing.py\u001b[0m in \u001b[0;36m_get_listlike_indexer\u001b[1;34m(self, key, axis)\u001b[0m\n\u001b[0;32m   1312\u001b[0m             \u001b[0mkeyarr\u001b[0m\u001b[1;33m,\u001b[0m \u001b[0mindexer\u001b[0m\u001b[1;33m,\u001b[0m \u001b[0mnew_indexer\u001b[0m \u001b[1;33m=\u001b[0m \u001b[0max\u001b[0m\u001b[1;33m.\u001b[0m\u001b[0m_reindex_non_unique\u001b[0m\u001b[1;33m(\u001b[0m\u001b[0mkeyarr\u001b[0m\u001b[1;33m)\u001b[0m\u001b[1;33m\u001b[0m\u001b[1;33m\u001b[0m\u001b[0m\n\u001b[0;32m   1313\u001b[0m \u001b[1;33m\u001b[0m\u001b[0m\n\u001b[1;32m-> 1314\u001b[1;33m         \u001b[0mself\u001b[0m\u001b[1;33m.\u001b[0m\u001b[0m_validate_read_indexer\u001b[0m\u001b[1;33m(\u001b[0m\u001b[0mkeyarr\u001b[0m\u001b[1;33m,\u001b[0m \u001b[0mindexer\u001b[0m\u001b[1;33m,\u001b[0m \u001b[0maxis\u001b[0m\u001b[1;33m)\u001b[0m\u001b[1;33m\u001b[0m\u001b[1;33m\u001b[0m\u001b[0m\n\u001b[0m\u001b[0;32m   1315\u001b[0m \u001b[1;33m\u001b[0m\u001b[0m\n\u001b[0;32m   1316\u001b[0m         if needs_i8_conversion(ax.dtype) or isinstance(\n",
      "\u001b[1;32m~\\AppData\\Local\\Programs\\Python\\Python37\\lib\\site-packages\\pandas\\core\\indexing.py\u001b[0m in \u001b[0;36m_validate_read_indexer\u001b[1;34m(self, key, indexer, axis)\u001b[0m\n\u001b[0;32m   1375\u001b[0m \u001b[1;33m\u001b[0m\u001b[0m\n\u001b[0;32m   1376\u001b[0m             \u001b[0mnot_found\u001b[0m \u001b[1;33m=\u001b[0m \u001b[0mlist\u001b[0m\u001b[1;33m(\u001b[0m\u001b[0mensure_index\u001b[0m\u001b[1;33m(\u001b[0m\u001b[0mkey\u001b[0m\u001b[1;33m)\u001b[0m\u001b[1;33m[\u001b[0m\u001b[0mmissing_mask\u001b[0m\u001b[1;33m.\u001b[0m\u001b[0mnonzero\u001b[0m\u001b[1;33m(\u001b[0m\u001b[1;33m)\u001b[0m\u001b[1;33m[\u001b[0m\u001b[1;36m0\u001b[0m\u001b[1;33m]\u001b[0m\u001b[1;33m]\u001b[0m\u001b[1;33m.\u001b[0m\u001b[0munique\u001b[0m\u001b[1;33m(\u001b[0m\u001b[1;33m)\u001b[0m\u001b[1;33m)\u001b[0m\u001b[1;33m\u001b[0m\u001b[1;33m\u001b[0m\u001b[0m\n\u001b[1;32m-> 1377\u001b[1;33m             \u001b[1;32mraise\u001b[0m \u001b[0mKeyError\u001b[0m\u001b[1;33m(\u001b[0m\u001b[1;34mf\"{not_found} not in index\"\u001b[0m\u001b[1;33m)\u001b[0m\u001b[1;33m\u001b[0m\u001b[1;33m\u001b[0m\u001b[0m\n\u001b[0m\u001b[0;32m   1378\u001b[0m \u001b[1;33m\u001b[0m\u001b[0m\n\u001b[0;32m   1379\u001b[0m \u001b[1;33m\u001b[0m\u001b[0m\n",
      "\u001b[1;31mKeyError\u001b[0m: \"['PRCP', 'TAVG', 'TMAX', 'TMIN'] not in index\""
     ]
    }
   ],
   "source": [
    "# raw_data2.loc[(raw_data.index != raw_data2.index) & (raw_data.index > '2010-1-1' & raw_data.index < '2020-1-1')]\n",
    "# result = raw_data.append(raw_data2 , ignore_index=False , sort=False)\n",
    "# result.tail(50)\n",
    "# data = result[[\"STATION\" ,\"NAME\" ,\"PRCP\" ,\"TAVG\" ,\"TMAX\" ,\"TMIN\"]]\n",
    "# data\n",
    "#toUse = raw_data2.loc[raw_data.DATE.sort_values() == raw_data2.DATE.sort_values()]\n",
    "\n",
    "#result = pd.concat([raw_data , raw_data2])\n",
    "#result = pd.merge(raw_data, raw_data2 , how=\"left\" , on=\"DATE\")\n",
    "#print(result.to_string())\n",
    "# result.set_index(result.DATE ,inplace=True)\n",
    "#result.sort_values(by=\"DATE\")\n",
    "# result = result.sort_index()\n",
    "# result\n",
    "result = result[[ 'STATION' , 'NAME' ,'DATE','PRCP','TAVG','TMAX','TMIN']].copy()\n",
    "result.DATE = pd.to_datetime('DATE')\n",
    "result.sort_values(result.DATE)\n",
    "\n",
    "\n",
    "\n",
    "#result.set_index('DATE' ,inplace=True)\n",
    "\n"
   ]
  },
  {
   "cell_type": "markdown",
   "metadata": {},
   "source": []
  },
  {
   "cell_type": "markdown",
   "metadata": {},
   "source": []
  }
 ],
 "metadata": {
  "interpreter": {
   "hash": "099b7b0304e98c82a5a5c1b79ec12ac03b2e6edf5da5fc987ff56c7349b83809"
  },
  "kernelspec": {
   "display_name": "Python 3.7.9 64-bit",
   "name": "python3"
  },
  "language_info": {
   "codemirror_mode": {
    "name": "ipython",
    "version": 3
   },
   "file_extension": ".py",
   "mimetype": "text/x-python",
   "name": "python",
   "nbconvert_exporter": "python",
   "pygments_lexer": "ipython3",
   "version": "3.7.9"
  }
 },
 "nbformat": 4,
 "nbformat_minor": 2
}
