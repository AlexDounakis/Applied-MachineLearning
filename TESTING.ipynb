{
 "cells": [
  {
   "cell_type": "code",
   "execution_count": null,
   "metadata": {},
   "outputs": [],
   "source": [
    "# outliers = np.where((raw_data.TAVG.notna() > raw_data.TMAX.notna()) | (raw_data.TAVG.notna() < raw_data.TMIN.notna()))\n",
    "\n",
    "# tavg_outliers = raw_data[ (raw_data.TAVG.isna()) & ((raw_data.TMAX.notna()) | (raw_data.TMIN.notna()))]\n",
    "# print(\"AVG OUTLIERS \\n\",tavg_outliers)\n",
    "\n",
    "# tmax_min_outliers = raw_data[ (raw_data.TMAX.isna()) | (raw_data.TMIN.isna())]\n",
    "# print(\"MAX MIN OUTLIERS \\n\",tmax_min_outliers)\n",
    "\n",
    "# outliers.drop('4',1, inplace=True)\n",
    "# print(outliers)\n",
    "# copy_data = raw_data.copy()\n",
    "# updated_TAVG_column = raw_data.loc[ ((raw_data.TAVG > raw_data.TMAX) | (raw_data.TAVG < raw_data.TMIN)) | (raw_data.TAVG == float(0)) |  (raw_data.TAVG.isna()) | (raw_data.TMAX.isna() | (raw_data.TMIN.isna())), \"TAVG\"] = (raw_data.TMAX + raw_data.TMIN) / 2 \n",
    "\n",
    "#columnTAVG contains dirty data\n",
    "columnTAVG = raw_data.TAVG[(raw_data.TAVG > raw_data.TMAX) | (raw_data.TAVG < raw_data.TMIN) | ((raw_data.TAVG.isna()) & (raw_data.TMIN.notna()) & (raw_data.TMAX.notna()))]\n",
    "\n",
    "columnTMAX = raw_data.TMAX[(raw_data.TAVG > raw_data.TMAX) | (raw_data.TAVG < raw_data.TMIN) | ((raw_data.TAVG.isna()) & (raw_data.TMIN.notna()) & (raw_data.TMAX.notna()))].to_frame()\n",
    "columnTMIN = raw_data.TMIN[(raw_data.TAVG > raw_data.TMAX) | (raw_data.TAVG < raw_data.TMIN) | ((raw_data.TAVG.isna()) & (raw_data.TMIN.notna()) & (raw_data.TMAX.notna()))].to_frame()\n",
    "columnTAVG.fillna(0 ,inplace=True)\n",
    "columnTMAX.fillna(0 ,inplace=True)\n",
    "columnTMIN.fillna(0 ,inplace=True)\n",
    "print(\"NO NAN \\n\",columnTAVG)\n",
    "columnTAVG.loc[columnTAVG == 0 ] = (columnTMAX.loc[[columnTMAX > 0 ]] + columnTMIN.loc[[columnTMIN > 0 ]]) /2  \n",
    "#(columnTMAX.query() + columnTMIN.query() ) /2  \n",
    "# = (columnTMAX.loc[columnTAVG > 0 ] + columnTMIN.loc[columnTMIN > 0 ]) /2  \n",
    "print(\"Updated \\n \",columnTAVG.to_list())\n",
    "# updated_TAVG_column = raw_data.loc[(raw_data.TAVG > raw_data.TMAX) | (raw_data.TAVG < raw_data.TMIN) | ((raw_data.TAVG.isna()) & (raw_data.TMIN.notna()) & (raw_data.TMAX.notna()))  , \"TAVG\" ] = (raw_data.TMAX+ raw_data.TMIN ) /2\n",
    " \n",
    "# print(\"TO UPDATE \\n\",updated_TAVG_column)\n",
    "``"
   ]
  }
 ],
 "metadata": {
  "language_info": {
   "name": "python"
  },
  "orig_nbformat": 4
 },
 "nbformat": 4,
 "nbformat_minor": 2
}
